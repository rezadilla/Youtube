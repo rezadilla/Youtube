{
 "cells": [
  {
   "cell_type": "code",
   "execution_count": 3,
   "metadata": {},
   "outputs": [],
   "source": [
    "from selenium import webdriver\n",
    "from bs4 import BeautifulSoup as bs\n",
    "import time\n",
    "import pandas as pd\n",
    "driver=webdriver.Chrome('C:/Users/Administrator/Reza/chromedriver_win32/chromedriver.exe') #(Letakkan 'chromedriver.exe' ke folder yang udah ditetapkan ini)\n",
    "driver.get('https://www.youtube.com/watch?v=zCMZXcDnNcg')\n",
    "driver.execute_script('window.scrollTo(1, 500);')\n",
    "#now wait let load the comments\n",
    "time.sleep(100) #jumlah data yang diambil tergantung scroll saat load data #SARAN Setting time sleppingnya lama\n",
    "driver.execute_script('window.scrollTo(1,3000);')\n",
    "comments_youtube=[]\n",
    "comment_div=driver.find_element_by_xpath('//*[@id=\"contents\"]')\n",
    "comments=comment_div.find_elements_by_xpath('//*[@id=\"content-text\"]')\n",
    "for comment in comments:\n",
    "    comments_youtube.append(comment.text)"
   ]
  },
  {
   "cell_type": "code",
   "execution_count": 4,
   "metadata": {},
   "outputs": [
    {
     "name": "stdout",
     "output_type": "stream",
     "text": [
      "                                      Comments_youtube\n",
      "0                      JADILAH NETIZEN YANG PINTAR !!!\n",
      "1    Yg dipermasalahin netijen tuh om Baim udah kes...\n",
      "2    Udh nonton d rans. Biasa aja namanya ank kecil...\n",
      "3    Percaya atau enggk, diantara ratusan komentar ...\n",
      "4    Emang Baim nya aja yang selalu mancing emosiny...\n",
      "..                                                 ...\n",
      "150  Baim kayaknya harus hati2 bersikap ma rafatar....\n",
      "151  Mas baim juga Dr dulu udah d bilangin sama net...\n",
      "152  Haduuhh parah netizen,\\nsemoga \\nKk Baim dn ke...\n",
      "153  Assalamualaikum, sehat dan sukses selalu wat k...\n",
      "154  baim jg jgnlah gangguin ank kecil yg bikin dia...\n",
      "\n",
      "[155 rows x 1 columns]\n"
     ]
    }
   ],
   "source": [
    "comments_dict = {'Comments_youtube':comments_youtube}\n",
    "comments_youtube_df = pd.DataFrame(comments_dict)\n",
    "print(comments_youtube_df)\n",
    "comments_youtube_df.to_csv(r'comments_youtube2.csv')"
   ]
  },
  {
   "cell_type": "code",
   "execution_count": null,
   "metadata": {},
   "outputs": [],
   "source": []
  }
 ],
 "metadata": {
  "kernelspec": {
   "display_name": "dilla",
   "language": "python",
   "name": "dilla"
  },
  "language_info": {
   "codemirror_mode": {
    "name": "ipython",
    "version": 3
   },
   "file_extension": ".py",
   "mimetype": "text/x-python",
   "name": "python",
   "nbconvert_exporter": "python",
   "pygments_lexer": "ipython3",
   "version": "3.7.7"
  }
 },
 "nbformat": 4,
 "nbformat_minor": 2
}
